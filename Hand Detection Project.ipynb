{
 "cells": [
  {
   "cell_type": "code",
   "execution_count": 1,
   "id": "a9aa0c8e",
   "metadata": {},
   "outputs": [],
   "source": [
    "#Install Mediapipe - If you haven't install it before\n",
    "\n",
    "#!pip install mediapipe"
   ]
  },
  {
   "cell_type": "code",
   "execution_count": 2,
   "id": "6026ad07",
   "metadata": {},
   "outputs": [],
   "source": [
    "#step Import all libraries needed\n",
    "\n",
    "import cv2\n",
    "\n",
    "import mediapipe as mp"
   ]
  },
  {
   "cell_type": "code",
   "execution_count": 3,
   "id": "9290b5dd",
   "metadata": {},
   "outputs": [],
   "source": [
    "#Step 2: Identify the Webcam\n",
    "cap =cv2.VideoCapture(0)\n",
    "\n"
   ]
  },
  {
   "cell_type": "code",
   "execution_count": 4,
   "id": "41d90834",
   "metadata": {},
   "outputs": [],
   "source": [
    "#Step 4: Leverage the mediapipe library used for hand detection\n",
    "\n",
    "mpHands = mp.solutions.hands\n",
    "hands = mpHands.Hands()\n",
    "mpDraw = mp.solutions.drawing_utils"
   ]
  },
  {
   "cell_type": "code",
   "execution_count": 5,
   "id": "20320458",
   "metadata": {},
   "outputs": [],
   "source": [
    "#Step 3:Switch on the Webcam\n",
    "\n",
    "while True:\n",
    "    _,img = cap.read()\n",
    "    \n",
    "    #convert the image from BGR to RGB\n",
    "    \n",
    "    imgRGB = cv2.cvtColor(img,cv2.COLOR_BGR2RGB)\n",
    "    \n",
    "    #Apply mediapipe \n",
    "    \n",
    "    results = hands.process(imgRGB)\n",
    "    #print (results.multi_hand_landmarks)\n",
    "    if results.multi_hand_landmarks:\n",
    "        for handlms in results.multi_hand_landmarks:\n",
    "            for id,lm in enumerate (handlms.landmark):\n",
    "                #print (id,lm)\n",
    "    \n",
    "    #Draw the hand\n",
    "                mpDraw.draw_landmarks(img,handlms,mpHands.HAND_CONNECTIONS)\n",
    "    \n",
    "    cv2.putText (img,\"Hand Detection Project\",(10,50),cv2.FONT_HERSHEY_PLAIN,3,(255,255,255),2)\n",
    "    cv2.imshow(\"Hand Detection Project\",img)\n",
    "    if cv2.waitKey(1) & 0xFF == ord (\"a\"):\n",
    "        break\n",
    "#Release the capture once all processing is done\n",
    "\n",
    "cap.release()\n",
    "cv2.destroyAllWindows()"
   ]
  },
  {
   "cell_type": "code",
   "execution_count": null,
   "id": "0c564aa0",
   "metadata": {},
   "outputs": [],
   "source": []
  },
  {
   "cell_type": "code",
   "execution_count": null,
   "id": "9e32211f",
   "metadata": {},
   "outputs": [],
   "source": []
  }
 ],
 "metadata": {
  "kernelspec": {
   "display_name": "Python 3 (ipykernel)",
   "language": "python",
   "name": "python3"
  },
  "language_info": {
   "codemirror_mode": {
    "name": "ipython",
    "version": 3
   },
   "file_extension": ".py",
   "mimetype": "text/x-python",
   "name": "python",
   "nbconvert_exporter": "python",
   "pygments_lexer": "ipython3",
   "version": "3.9.13"
  }
 },
 "nbformat": 4,
 "nbformat_minor": 5
}
