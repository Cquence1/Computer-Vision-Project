{
 "cells": [
  {
   "cell_type": "code",
   "execution_count": 1,
   "id": "2d0885f2",
   "metadata": {},
   "outputs": [],
   "source": [
    "#Install Mediapipe - If you haven't install it before\n",
    "\n",
    "#!pip install mediapipe"
   ]
  },
  {
   "cell_type": "code",
   "execution_count": 2,
   "id": "dfee4ca1",
   "metadata": {},
   "outputs": [],
   "source": [
    "#step1: Import all libraries needed\n",
    "\n",
    "import cv2\n",
    "\n",
    "import mediapipe as mp"
   ]
  },
  {
   "cell_type": "code",
   "execution_count": 3,
   "id": "b8bb69c0",
   "metadata": {},
   "outputs": [],
   "source": [
    "#Step 2: Identify the Webcam\n",
    "cap =cv2.VideoCapture(0)"
   ]
  },
  {
   "cell_type": "code",
   "execution_count": 4,
   "id": "3d707047",
   "metadata": {},
   "outputs": [],
   "source": [
    "#Step 4: Leverage the mediapipe pose detection module library\n",
    "\n",
    "mpPose = mp.solutions.pose\n",
    "pose = mpPose.Pose ()\n",
    "\n",
    "#pose=mpPose.pose (static_image_mode = false,upper_body_only=false,smooth_landmarks=True,min_detection_confidence = 0.5,min_tracking_confidence=0.5)\n",
    "\n",
    "#Draw and connect the landmarks\n",
    "\n",
    "mpDraw = mp.solutions.drawing_utils"
   ]
  },
  {
   "cell_type": "code",
   "execution_count": 5,
   "id": "7c7a7138",
   "metadata": {},
   "outputs": [],
   "source": [
    "#Step 3:Switch on the Webcam\n",
    "\n",
    "while True:\n",
    "    _,img = cap.read()\n",
    "    \n",
    "    #convert the Video/image from BGR to RGB\n",
    "    \n",
    "    imgRGB = cv2.cvtColor(img,cv2.COLOR_BGR2RGB)\n",
    "    \n",
    "    #Apply mediapipe pose detection module for detection\n",
    "    \n",
    "    results = pose.process(imgRGB)\n",
    "    \n",
    "    #print (results.pose_landmarks)\n",
    "    \n",
    "    #Draw the landmarks\n",
    "    \n",
    "    if results.pose_landmarks:\n",
    "        mpDraw.draw_landmarks (img,results.pose_landmarks,mpPose.POSE_CONNECTIONS)             \n",
    "    \n",
    "    cv2.putText (img,\"Pose Detection Project\",(10,50),cv2.FONT_HERSHEY_PLAIN,3,(255,255,255),3)\n",
    "    cv2.imshow(\"PoseDetection Project\",img)\n",
    "    if cv2.waitKey(1) & 0xFF == ord (\"a\"):\n",
    "        break\n",
    "#Release the capture once all processing is done\n",
    "\n",
    "cap.release()\n",
    "cv2.destroyAllWindows()"
   ]
  },
  {
   "cell_type": "code",
   "execution_count": null,
   "id": "5d0bc6e9",
   "metadata": {},
   "outputs": [],
   "source": []
  }
 ],
 "metadata": {
  "kernelspec": {
   "display_name": "Python 3 (ipykernel)",
   "language": "python",
   "name": "python3"
  },
  "language_info": {
   "codemirror_mode": {
    "name": "ipython",
    "version": 3
   },
   "file_extension": ".py",
   "mimetype": "text/x-python",
   "name": "python",
   "nbconvert_exporter": "python",
   "pygments_lexer": "ipython3",
   "version": "3.9.13"
  }
 },
 "nbformat": 4,
 "nbformat_minor": 5
}
